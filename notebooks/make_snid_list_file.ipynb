{
 "cells": [
  {
   "cell_type": "markdown",
   "metadata": {},
   "source": [
    "# Make SNID list file"
   ]
  },
  {
   "cell_type": "raw",
   "metadata": {},
   "source": [
    "#Object  Type      Filename                        Age Age_flag Delta AB? Wave_range   Redshift\n",
    "sn98aq   Ia-norm   spectra/sn1998aq-19980418.flm    -9.0   0   1.15   0   3720  7419   0.00395\n",
    "sn90aa   Ic-norm   spectra/sn1990aa-19900927-oi.flm  0.0   1  -9.99   0   3900  9850   0.01647\n",
    "kcS0     Gal       spectra/s0_template.dat         -99.9   2  -9.99   0   1235  9940   0."
   ]
  },
  {
   "cell_type": "code",
   "execution_count": 54,
   "metadata": {
    "collapsed": true
   },
   "outputs": [],
   "source": [
    "import os\n",
    "import glob\n",
    "import sys\n",
    "\n",
    "from astropy.time import Time\n",
    "from astropy.cosmology import WMAP9\n",
    "import astropy.units as u\n",
    "import astropy.constants as c"
   ]
  },
  {
   "cell_type": "code",
   "execution_count": 55,
   "metadata": {
    "collapsed": false
   },
   "outputs": [],
   "source": [
    "sys.path.append('../code')\n",
    "import scale_merge_spec"
   ]
  },
  {
   "cell_type": "code",
   "execution_count": 56,
   "metadata": {
    "collapsed": true
   },
   "outputs": [],
   "source": [
    "COMBINE_DIR = '../SNID_templates/'"
   ]
  },
  {
   "cell_type": "markdown",
   "metadata": {},
   "source": [
    "# 2013ej"
   ]
  },
  {
   "cell_type": "code",
   "execution_count": 57,
   "metadata": {
    "collapsed": false
   },
   "outputs": [
    {
     "name": "stdout",
     "output_type": "stream",
     "text": [
      "0.002242898318676182\n"
     ]
    }
   ],
   "source": [
    "iobject = 'sn13ej'\n",
    "itype = 'IIL'\n",
    "age_flag = 0\n",
    "delta = -9.99\n",
    "AB = 0\n",
    "max_date = Time(2456507.13, format='jd')\n",
    "dist = 9.7*u.Mpc\n",
    "redshift = WMAP9.H0*dist/c.c.to(u.km/u.s)\n",
    "print(redshift)"
   ]
  },
  {
   "cell_type": "code",
   "execution_count": 58,
   "metadata": {
    "collapsed": false
   },
   "outputs": [],
   "source": [
    "flist = glob.glob(os.path.join(COMBINE_DIR,'sn13ej*combine*'))\n",
    "ofile = open(os.path.join(COMBINE_DIR, 'snid_list_2013ej'), 'w')\n",
    "ofile.write('#Object  Type      Filename                        Age Age_flag Delta AB? Wave_range   Redshift\\n')\n",
    "for ifile in flist:\n",
    "    date=Time(ifile.split('_')[2])\n",
    "    spec = scale_merge_spec.read_spec(*os.path.split(ifile))\n",
    "    age = date-max_date\n",
    "    if '2014-01-24' in ifile:\n",
    "        wmin = 4250\n",
    "        wmax = int(spec.wavelength[-1])\n",
    "    elif '2013-12-06' in ifile:\n",
    "        wmin = 5000\n",
    "        wmax = int(spec.wavelength[-1])\n",
    "    elif '2013-10-03' in ifile:\n",
    "        wmin = 3800\n",
    "        wmax = int(spec.wavelength[-1])\n",
    "    else:\n",
    "        wmin = int(spec.wavelength[0])\n",
    "        wmax = int(spec.wavelength[-1])\n",
    "        \n",
    "    ofile.write('{}   {}  {}    {:3.2f}   {}   {}   {}   {}  {}   {:1.5f}\\n'.format(\n",
    "                  iobject, itype, os.path.basename(ifile), \n",
    "                  age.to(u.day).value, age_flag,\n",
    "                  delta, AB, wmin, wmax, redshift))\n",
    "            \n",
    "ofile.close()"
   ]
  },
  {
   "cell_type": "markdown",
   "metadata": {},
   "source": [
    "# 2012A"
   ]
  },
  {
   "cell_type": "code",
   "execution_count": 59,
   "metadata": {
    "collapsed": false
   },
   "outputs": [
    {
     "name": "stdout",
     "output_type": "stream",
     "text": [
      "0.002266020981755318\n"
     ]
    }
   ],
   "source": [
    "iobject = 'sn12A '\n",
    "itype = 'IIL'\n",
    "age_flag = 0\n",
    "delta = -9.99\n",
    "AB = 0\n",
    "max_date = Time(2455939.67, format='jd')\n",
    "dist = 9.8*u.Mpc #Tomasella, 2013\n",
    "redshift = WMAP9.H0*dist/c.c.to(u.km/u.s)\n",
    "print(redshift)"
   ]
  },
  {
   "cell_type": "code",
   "execution_count": 60,
   "metadata": {
    "collapsed": false
   },
   "outputs": [],
   "source": [
    "flist = glob.glob(os.path.join(COMBINE_DIR,'sn12A*combine*'))\n",
    "ofile = open(os.path.join(COMBINE_DIR, 'snid_list_2012A'), 'w')\n",
    "ofile.write('#Object  Type      Filename                        Age Age_flag Delta AB? Wave_range   Redshift\\n')\n",
    "for ifile in flist:\n",
    "    date=Time(ifile.split('_')[2])\n",
    "    spec = scale_merge_spec.read_spec(*os.path.split(ifile))\n",
    "    age = date-max_date\n",
    "    if '2012-01-18' in ifile:\n",
    "        wmin = 3800\n",
    "        wmax = int(spec.wavelength[-1])\n",
    "    elif '2012-01-21' in ifile:\n",
    "        wmin = 5000\n",
    "        wmax = int(spec.wavelength[-1])\n",
    "    elif '2012-01-24' in ifile:\n",
    "        wmin = 3800\n",
    "        wmax = int(spec.wavelength[-1])\n",
    "    elif '2012-01-29' in ifile:\n",
    "        wmin = 5000\n",
    "        wmax = int(spec.wavelength[-1])\n",
    "    elif '2012-01-30' in ifile:\n",
    "        wmin = 3800\n",
    "        wmax = int(spec.wavelength[-1])\n",
    "    elif '2012-02-25' in ifile:\n",
    "        wmin = 3800\n",
    "        wmax = int(spec.wavelength[-1])\n",
    "    elif '2012-02-28' in ifile:\n",
    "        wmin = 3800\n",
    "        wmax = int(spec.wavelength[-1])\n",
    "    elif '2012-03-15' in ifile:\n",
    "        wmin = 3800\n",
    "        wmax = int(spec.wavelength[-1]) \n",
    "    elif '2012-03-17' in ifile:\n",
    "        wmin = 3800\n",
    "        wmax = int(spec.wavelength[-1]) \n",
    "    elif '2012-03-27' in ifile:\n",
    "        wmin = 3800\n",
    "        wmax = int(spec.wavelength[-1]) \n",
    "    elif '2012-03-31' in ifile:\n",
    "        wmin = 3800\n",
    "        wmax = int(spec.wavelength[-1]) \n",
    "    elif '2012-04-12' in ifile:\n",
    "        wmin = 3800\n",
    "        wmax = int(spec.wavelength[-1]) \n",
    "    elif '2012-04-23' in ifile:\n",
    "        wmin = int(spec.wavelength[0])\n",
    "        wmax = 9200\n",
    "    elif '2012-04-24' in ifile:\n",
    "        wmin = 3800\n",
    "        wmax = int(spec.wavelength[-1]) \n",
    "    elif '2012-04-27' in ifile:\n",
    "        wmin = 3800\n",
    "        wmax = int(spec.wavelength[-1]) \n",
    "    \n",
    "    elif '2012-06-08' in ifile:\n",
    "        wmin = 3900\n",
    "        wmax = int(spec.wavelength[-1]) \n",
    "    elif '2013-02-03' in ifile:\n",
    "        wmin = 3800\n",
    "        wmax = 9200 \n",
    "    elif '2013-03-15' in ifile:\n",
    "        wmin = int(spec.wavelength[0])\n",
    "        wmax = 9200\n",
    "\n",
    "    else:\n",
    "        wmin = int(spec.wavelength[0])\n",
    "        wmax = int(spec.wavelength[-1])\n",
    "\n",
    "\n",
    "\n",
    "        \n",
    "    ofile.write('{}   {}  {}    {:3.2f}   {}   {}   {}   {}  {}   {:1.5f}\\n'.format(\n",
    "                  iobject, itype, os.path.basename(ifile), \n",
    "                  age.to(u.day).value, age_flag,\n",
    "                  delta, AB, wmin, wmax, redshift))\n",
    "            \n",
    "ofile.close()"
   ]
  },
  {
   "cell_type": "code",
   "execution_count": null,
   "metadata": {
    "collapsed": true
   },
   "outputs": [],
   "source": []
  }
 ],
 "metadata": {
  "kernelspec": {
   "display_name": "Python [default]",
   "language": "python",
   "name": "python3"
  },
  "language_info": {
   "codemirror_mode": {
    "name": "ipython",
    "version": 3
   },
   "file_extension": ".py",
   "mimetype": "text/x-python",
   "name": "python",
   "nbconvert_exporter": "python",
   "pygments_lexer": "ipython3",
   "version": "3.5.2"
  }
 },
 "nbformat": 4,
 "nbformat_minor": 2
}
