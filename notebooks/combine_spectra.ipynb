{
 "cells": [
  {
   "cell_type": "code",
   "execution_count": 29,
   "metadata": {
    "collapsed": false
   },
   "outputs": [
    {
     "name": "stdout",
     "output_type": "stream",
     "text": [
      "Using matplotlib backend: Qt5Agg\n"
     ]
    }
   ],
   "source": [
    "import os\n",
    "import sys\n",
    "import pickle\n",
    "\n",
    "import numpy as np\n",
    "from astropy.io import fits, ascii\n",
    "from astropy.table import Table\n",
    "import astropy.units as u\n",
    "from astropy.cosmology import WMAP9\n",
    "import astropy.constants as c\n",
    "\n",
    "from matplotlib import pyplot as plt\n",
    "from cycler import cycler\n",
    "%matplotlib\n",
    "\n",
    "import spectroscopy"
   ]
  },
  {
   "cell_type": "code",
   "execution_count": 30,
   "metadata": {
    "collapsed": false
   },
   "outputs": [],
   "source": [
    "sys.path.append('../code')\n",
    "import scale_merge_spec"
   ]
  },
  {
   "cell_type": "code",
   "execution_count": 31,
   "metadata": {
    "collapsed": true
   },
   "outputs": [],
   "source": [
    "FIG_DIR = '../figures'"
   ]
  },
  {
   "cell_type": "code",
   "execution_count": 32,
   "metadata": {
    "collapsed": true
   },
   "outputs": [],
   "source": [
    "CAT_DIR = '../astropy_catalogs/'"
   ]
  },
  {
   "cell_type": "markdown",
   "metadata": {},
   "source": [
    "# Plot Scaled Spectra to Determine which to combine"
   ]
  },
  {
   "cell_type": "code",
   "execution_count": 33,
   "metadata": {
    "collapsed": false,
    "scrolled": false
   },
   "outputs": [],
   "source": [
    "def plot_scaled_spectra(sn_dir, sn, tbdata):\n",
    "    plt.ioff()\n",
    "    cycler_net = cycler(color='bgrcmyk')+cycler(linestyle=':::::::')\n",
    "    for date in np.unique(tbdata['Obs. Date']):\n",
    "        print(\"'{}':{}'filename':{}\".format(date, '{','('))\n",
    "        indx = (tbdata['Obs. Date']==date) & (tbdata['Quality']=='Final')\n",
    "        if len(tbdata[indx]) > 0:\n",
    "            spec_list = []\n",
    "            for irow in tbdata[indx]:\n",
    "                if not hasattr(irow['Fits File'], '_mask'):\n",
    "                    if 'WiFeS' in irow['Instrument']:\n",
    "                        spectrum = scale_merge_spec.fits_spec(sn_dir, irow['Fits File'], ext=1)\n",
    "                    else:\n",
    "                        spectrum = scale_merge_spec.fits_spec(sn_dir, irow['Fits File'])\n",
    "                elif not hasattr(irow['Ascii File'], '_mask'):\n",
    "                    spectrum = scale_merge_spec.ascii_spec(sn_dir, irow['Ascii File'])\n",
    "                else:\n",
    "                    print('Cannot read id={}, date={}'.format(irow['Id'], date))\n",
    "                    continue\n",
    "                spec_list.append(spectrum)\n",
    "                print(\"'{}',\".format(spectrum.filename))\n",
    "            template_spec = spec_list[0]\n",
    "            if len(spec_list)>1:\n",
    "                for spec in spec_list[1:]:\n",
    "                    template_spec, scaled_spec = scale_merge_spec.scale_spectrum(template_spec, spec, spectrum_to_scale=2)\n",
    "                    plt.plot(scaled_spec.wavelength, scaled_spec.flux, label=spec.filename)\n",
    "            plt.plot(template_spec.wavelength, template_spec.flux, label = 'temp-{}'.format(template_spec.filename))\n",
    "            plt.legend(loc='best', fontsize='x-small')\n",
    "            plt.title(date)\n",
    "            plt.xlim(xmax=10000)\n",
    "            plt.savefig(os.path.join(FIG_DIR, 'wiserep_spectra_{}_{}.pdf'.format(sn,date)))\n",
    "            plt.close()\n",
    "    plt.ion()\n"
   ]
  },
  {
   "cell_type": "markdown",
   "metadata": {},
   "source": [
    "# Combine Similar Spectra\n",
    "\n",
    "complicated spectra combined with scombine in scombine_spectra notebook"
   ]
  },
  {
   "cell_type": "code",
   "execution_count": 45,
   "metadata": {
    "collapsed": false
   },
   "outputs": [],
   "source": [
    "def create_simple_comb_template_spec(sn_dir, sn, combine_spec_dict, redshift):\n",
    "    for date in combine_spec_dict.keys():\n",
    "        date_dict = combine_spec_dict[date]\n",
    "        if isinstance(date_dict['filename'], str):\n",
    "            spec = scale_merge_spec.read_spec(sn_dir, date_dict['filename'])\n",
    "            spec = scale_merge_spec.trim_wavelengths(spec)\n",
    "            wl = spec.wavelength\n",
    "            flux = spec.flux\n",
    "        elif date_dict['scombine'] is False:\n",
    "            assert len(date_dict['filename'])==2\n",
    "            spec1 = scale_merge_spec.read_spec(sn_dir, date_dict['filename'][0])\n",
    "            spec2 = scale_merge_spec.read_spec(sn_dir, date_dict['filename'][1])\n",
    "            spec1, spec2 = scale_merge_spec.scale_spectrum(spec1, spec2)\n",
    "            wl, flux = scale_merge_spec.median_combine_data([spec1, spec2])\n",
    "        else:\n",
    "            continue\n",
    "        #deredshift\n",
    "        #wl = spectroscopy.apply_redshift(wl, redshift)\n",
    "        tbdata = Table([wl, flux], names=['col0', 'col1'])\n",
    "        tbdata.write('../SNID_templates/{}_{}_combine.dat'.format(sn, date),  \n",
    "                     overwrite=True,\n",
    "                     format='ascii.fixed_width_no_header',\n",
    "                    delimiter=' ',\n",
    "                     delimiter_pad=None,\n",
    "                     bookend=False,\n",
    "                    formats={'col0':'{0: >13.2F}', 'col1':'{: >13.6E}'})"
   ]
  },
  {
   "cell_type": "markdown",
   "metadata": {},
   "source": [
    "# Test Combination"
   ]
  },
  {
   "cell_type": "code",
   "execution_count": 46,
   "metadata": {
    "collapsed": false
   },
   "outputs": [],
   "source": [
    "def plot_combined_spec(sn_dir, sn, combine_spec_dict):\n",
    "    for date in combine_spec_dict.keys():\n",
    "        if combine_spec_dict[date]['scombine'] is False:\n",
    "            plt.figure()\n",
    "            date_dict = combine_spec_dict[date]\n",
    "            if isinstance(date_dict['filename'], str):\n",
    "                spec = scale_merge_spec.read_spec(sn_dir, date_dict['filename'])\n",
    "                plt.plot(spec.wavelength, spec.flux, label = 'untrimmed')\n",
    "            else:\n",
    "                fname1, fname2=date_dict['filename']\n",
    "                spec1 = scale_merge_spec.read_spec(sn_dir, fname1)\n",
    "                spec2 = scale_merge_spec.read_spec(sn_dir, fname2)\n",
    "                spec1, spec2 = scale_merge_spec.scale_spectrum(spec1, spec2)\n",
    "                plt.plot(spec1.wavelength, spec1.flux, label = spec1.filename)\n",
    "                plt.plot(spec2.wavelength, spec2.flux, label = spec2.filename)\n",
    "            final_spec = scale_merge_spec.read_spec('../SNID_templates','{}_{}_combine.dat'.format(sn,date))\n",
    "            plt.plot(final_spec.wavelength, final_spec.flux, 'k', label='combined')\n",
    "            plt.legend(loc='best', fontsize='x-small')\n",
    "            plt.xlabel('wavelength')\n",
    "            plt.ylabel('flux')\n",
    "            plt.title('Combined Spectra for {}'.format(date))\n",
    "            plt.savefig(os.path.join(FIG_DIR, '{}_{}_combined.pdf'.format(sn,date)))\n",
    "            plt.close()\n",
    "                "
   ]
  },
  {
   "cell_type": "code",
   "execution_count": 47,
   "metadata": {
    "collapsed": false
   },
   "outputs": [
    {
     "name": "stdout",
     "output_type": "stream",
     "text": [
      "0.002242898318676182\n"
     ]
    }
   ],
   "source": [
    "tbdata = ascii.read(os.path.join(CAT_DIR, '2013ej_cat.csv'))\n",
    "sn_dir = '../2013ej'\n",
    "sn='sn13ej'\n",
    "dist = 9.7*u.Mpc\n",
    "redshift = WMAP9.H0*dist/c.c.to(u.km/u.s)\n",
    "print(redshift)"
   ]
  },
  {
   "cell_type": "code",
   "execution_count": null,
   "metadata": {
    "collapsed": true
   },
   "outputs": [],
   "source": [
    "plot_scaled_spectra(sn_dir, sn, tbdata)\n",
    "#Copy and paste output below and consult plots to help make combine_spec_dict"
   ]
  },
  {
   "cell_type": "markdown",
   "metadata": {},
   "source": [
    "## Create Array for use:"
   ]
  },
  {
   "cell_type": "code",
   "execution_count": 48,
   "metadata": {
    "collapsed": false
   },
   "outputs": [],
   "source": [
    "combine_spec_dict = {'2013-07-27':{'filename':('2013ej_20130727_fts.fits'), 'scombine':False},\n",
    "                    '2013-07-31':{'filename':('2013ej_20130731_P122_BC_300tr.fits'), 'scombine':False},\n",
    "                    '2013-08-01':{'filename':('2013ej_20130801_ftn.fits'), 'scombine':False},\n",
    "                    '2013-08-02':{'filename':('2013ej_20130802_ftn.fits',\n",
    "                                              '2013ej_20130802_fts.fits'), 'scombine':False},\n",
    "                    '2013-08-03':{'filename':('2013ej_20130803_fts.fits'), 'scombine':False},\n",
    "                    '2013-08-04':{'filename':('sn2013ej-20130804.383-r.flm', \n",
    "                                              '2013ej_20130804_fts.fits',\n",
    "                                              'sn2013ej-20130804.511-ui.flm'), 'scombine':True},\n",
    "                    '2013-08-05':{'filename':('2013ej_20130805_ftn.fits',\n",
    "                                              '2013ej_20130805_fts.fits',\n",
    "                                              'SN2013ej_20130804_Gr11_Free_slit1.0_56999_1.fits',\n",
    "                                              'SN2013ej_20130804_Gr16_OG530_slit1.0_56999_1.fits'), 'scombine':True},\n",
    "                    '2013-08-07':{'filename':('2013ej_20130807_P122_BC_300tr.fits'), 'scombine':False},\n",
    "                    '2013-08-08':{'filename':('2013ej_20130808_fts.fits',\n",
    "                                              '2013ej_20130808_P122_BC_300tr.fits'), 'scombine':True},\n",
    "                    '2013-08-09':{'filename':('2013ej_20130809_fts.fits'), 'scombine':False},\n",
    "                    '2013-08-10':{'filename':('2013ej_20130810_fts.fits'), 'scombine':False},\n",
    "                    '2013-08-11':{'filename':('2013ej_20130811_fts.fits', \n",
    "                                              'SN2013ej_20130811_wifes_B.fits',\n",
    "                                              'SN2013ej_20130811_wifes_R.fits'), 'scombine':True},\n",
    "                    '2013-08-12':{'filename':('2013ej_20130812_fts.fits',\n",
    "                                              'sn2013ej-20130812.508-ui.flm'), 'scombine':True},\n",
    "                    '2013-08-13':{'filename':('2013ej_20130813_fts.fits'), 'scombine':False},\n",
    "                    '2013-08-15':{'filename':('2013ej_20130815_fts.fits',\n",
    "                                              'SN2013ej_20130814_Gr16_OG530_slit1.0_56999_1.fits'), 'scombine':True},\n",
    "                     #Spectra shape inconsistent with day before and day after\n",
    "                    #'2013-08-16':{'filename':('SN2013ej_20130815_Gr11_Free_slit1.0_56999_1.fits',\n",
    "                    #                          'SN2013ej_20130815_Gr16_OG530_slit1.0_56999_1.fits'), 'scombine':False},\n",
    "                    '2013-08-17':{'filename':('2013ej_20130817_fts.fits'), 'scombine':False},\n",
    "                    '2013-08-19':{'filename':('SN2013ej_20130819_wifes_B.fits',\n",
    "                                              'SN2013ej_20130819_wifes_R.fits'), 'scombine':False},\n",
    "                    '2013-08-27':{'filename':('SN2013ej_20130826_Gr11_Free_slit1.0_56999_1.fits',\n",
    "                                              'SN2013ej_20130826_Gr16_OG530_slit1.0_56999_1.fits'), 'scombine':False},\n",
    "                    '2013-08-30':{'filename':('SN2013ej_20130829_Gr11_Free_slit1.0_56999_1.fits',\n",
    "                                              'SN2013ej_20130829_Gr16_OG530_slit1.0_56999_1.fits'), 'scombine':False},\n",
    "                    '2013-09-06':{'filename':('sn2013ej-20130906.414-ui.flm'), 'scombine':False},\n",
    "                    '2013-09-09':{'filename':('SN2013ej_20130908_Gr11_Free_slit1.5_56999_1.fits',\n",
    "                                              'SN2013ej_20130908_Gr16_OG530_slit1.5_56999_1.fits'), 'scombine':False},\n",
    "                    '2013-09-10':{'filename':('sn2013ej-20130910.598-hal.flm'), 'scombine':False},\n",
    "                    '2013-09-13':{'filename':('SN2013ej_20130912_Gr11_Free_slit1.0_56999_1.fits'), 'scombine':False},\n",
    "                    '2013-09-19':{'filename':('SN2013ej_20130919_wifes_B.fits',\n",
    "                                              'SN2013ej_20130919_wifes_R.fits'), 'scombine':False},\n",
    "                    '2013-10-01':{'filename':('sn2013ej-20131001.548-ui.flm'), 'scombine':False},\n",
    "                    '2013-10-03':{'filename':('SN2013ej_20131002_Gr11_Free_slit1.0_57001_1.fits',\n",
    "                                              'SN2013ej_20131002_Gr16_OG530_slit1.0_57001_1.fits'), 'scombine':False},\n",
    "                    '2013-10-05':{'filename':('sn2013ej-20131005.329-ui.flm'), 'scombine':False},\n",
    "                    '2013-10-08':{'filename':('sn2013ej-20131008.483-hal.flm'), 'scombine':False},\n",
    "                    '2013-10-10':{'filename':('sn2013ej-20131010.291-ui.flm'), 'scombine':False},\n",
    "                    '2013-10-16':{'filename':('SN2013ej_20131016_wifes_B.fits',\n",
    "                                              'SN2013ej_20131016_wifes_R.fits'), 'scombine':False},\n",
    "                    '2013-10-24':{'filename':('SN2013ej_20131024_wifes_B.fits',\n",
    "                                              'SN2013ej_20131024_wifes_R.fits'), 'scombine':False},\n",
    "                    '2013-10-26':{'filename':('sn2013ej-20131026.264-ui.flm'), 'scombine':False},\n",
    "                    '2013-10-27':{'filename':('SN2013ej_20131026_Gr11_Free_slit1.0_57001_1.fits',\n",
    "                                              'SN2013ej_20131026_Gr16_OG530_slit1.0_57001_1.fits'), 'scombine':False},\n",
    "                    '2013-11-02':{'filename':('sn2013ej-20131102.341-ui.flm'), 'scombine':False},\n",
    "                    '2013-11-08':{'filename':('sn2013ej-20131108.312-ui.flm'), 'scombine':False},\n",
    "                    '2013-11-24':{'filename':('SN2013ej_20131123_Gr11_Free_slit1.0_57002_1.fits',\n",
    "                                              'SN2013ej_20131123_Gr16_OG530_slit1.0_57002_1.fits'), 'scombine':False},\n",
    "                    '2013-11-28':{'filename':('sn2013ej-20131128.367-ui.flm'), 'scombine':False},\n",
    "                    '2013-12-06':{'filename':('sn2013ej-20131206.394-ui.flm'), 'scombine':False},\n",
    "                    '2013-12-24':{'filename':('SN2013ej_20131223_Gr11_Free_slit1.0_57002_1.fits',\n",
    "                                              'SN2013ej_20131223_Gr16_OG530_slit1.0_57002_1.fits'), 'scombine':False},\n",
    "                    '2014-01-24':{'filename':('SN2013ej_20140123_Gr11_Free_slit1.0_57003_1.fits'), 'scombine':False},\n",
    "                    '2014-01-31':{'filename':('SN2013ej_20140130_Gr16_OG530_slit1.5_57003_1.fits'), 'scombine':False}}\n",
    "\n",
    "#ofile = open('../2013ej/combine_dict.pkl', 'wb')\n",
    "#pickle.dump(combine_spec_dict, ofile)\n",
    "#ofile.close()"
   ]
  },
  {
   "cell_type": "code",
   "execution_count": 49,
   "metadata": {
    "collapsed": false
   },
   "outputs": [
    {
     "name": "stdout",
     "output_type": "stream",
     "text": [
      "WARNING: No solution type specified, assuming linear\n",
      "WARNING: No solution type specified, assuming linear\n",
      "WARNING, Disperions differ by more than 10\\% from average 1.0137129741003719\n",
      "[ 0.77454547  1.25288047]\n",
      "SN2013ej_20130919_wifes_B.fits\n",
      "WARNING: No solution type specified, assuming linear\n",
      "WARNING: No solution type specified, assuming linear\n",
      "WARNING, Disperions differ by more than 10\\% from average 1.014807084208769\n",
      "[ 0.77706505  1.25254912]\n",
      "SN2013ej_20131024_wifes_B.fits\n",
      "WARNING: No solution type specified, assuming linear\n",
      "WARNING: No solution type specified, assuming linear\n",
      "WARNING, Disperions differ by more than 10\\% from average 1.0138531255997805\n",
      "[ 0.77457853  1.25312772]\n",
      "SN2013ej_20130819_wifes_B.fits\n",
      "WARNING: No solution type specified, assuming linear\n",
      "WARNING: No solution type specified, assuming linear\n",
      "WARNING, Disperions differ by more than 10\\% from average 1.0114549926004202\n",
      "[ 0.76876955  1.25414043]\n",
      "SN2013ej_20131016_wifes_B.fits\n"
     ]
    }
   ],
   "source": [
    "create_simple_comb_template_spec(sn_dir, sn, combine_spec_dict, redshift)"
   ]
  },
  {
   "cell_type": "code",
   "execution_count": 50,
   "metadata": {
    "collapsed": false
   },
   "outputs": [
    {
     "name": "stdout",
     "output_type": "stream",
     "text": [
      "WARNING: No solution type specified, assuming linear\n",
      "WARNING: No solution type specified, assuming linear\n",
      "WARNING: No solution type specified, assuming linear\n",
      "WARNING: No solution type specified, assuming linear\n",
      "WARNING: No solution type specified, assuming linear\n",
      "WARNING: No solution type specified, assuming linear\n",
      "WARNING: No solution type specified, assuming linear\n",
      "WARNING: No solution type specified, assuming linear\n"
     ]
    }
   ],
   "source": [
    "plot_combined_spec(sn_dir, sn, combine_spec_dict)"
   ]
  },
  {
   "cell_type": "markdown",
   "metadata": {},
   "source": [
    "# Now Run scombine_spectra notebook"
   ]
  },
  {
   "cell_type": "markdown",
   "metadata": {},
   "source": [
    "# 2012A"
   ]
  },
  {
   "cell_type": "code",
   "execution_count": 51,
   "metadata": {
    "collapsed": false,
    "scrolled": true
   },
   "outputs": [
    {
     "name": "stdout",
     "output_type": "stream",
     "text": [
      "0.002266020981755318\n"
     ]
    }
   ],
   "source": [
    "#Almost no data in wiserep. files that do exist are not for 2012A, but 2012a?\n",
    "tbdata = ascii.read(os.path.join(CAT_DIR, '2012A_cat.csv'))\n",
    "sn_dir = '../2012A'\n",
    "sn='sn12A'\n",
    "\n",
    "dist = 9.8*u.Mpc #Tomasella, 2013\n",
    "redshift = WMAP9.H0*dist/c.c.to(u.km/u.s)\n",
    "print(redshift)"
   ]
  },
  {
   "cell_type": "code",
   "execution_count": 41,
   "metadata": {
    "collapsed": false
   },
   "outputs": [
    {
     "name": "stdout",
     "output_type": "stream",
     "text": [
      "'2013-03-15':{'filename':(\n",
      "'sn2012a-20130315.145-r.flm',\n"
     ]
    }
   ],
   "source": [
    "plot_scaled_spectra(sn_dir, sn, tbdata)\n",
    "#Copy and paste output below and consult plots to help make combine_spec_dict"
   ]
  },
  {
   "cell_type": "code",
   "execution_count": 52,
   "metadata": {
    "collapsed": true
   },
   "outputs": [],
   "source": [
    "combine_spec_dict = {\n",
    "    '2012-01-10':{'filename':('2012A_20120110.fits'), 'scombine':False},\n",
    "    '2012-01-13':{'filename':('2012A_20120113.fits'), 'scombine':False},\n",
    "    '2012-01-15':{'filename':('2012A_20120115.fits'), 'scombine':False},\n",
    "    '2012-01-17':{'filename':('2012A_20120117.fits'), 'scombine':False},\n",
    "    '2012-01-18':{'filename':('2012A_20120118a.fits','2012A_20120118.fits'), 'scombine':False},\n",
    "    '2012-01-20':{'filename':('2012A_20120120.fits'), 'scombine':False},\n",
    "    '2012-01-21':{'filename':('2012A_20120121.fits'), 'scombine':False},\n",
    "    '2012-01-22':{'filename':('2012A_20120122.fits'), 'scombine':False},\n",
    "    '2012-01-23':{'filename':('2012A_20120123.fits'), 'scombine':False},\n",
    "    '2012-01-24':{'filename':('2012A_20120124.fits'), 'scombine':False},\n",
    "    '2012-01-26':{'filename':('2012A_20120126.fits'), 'scombine':False},\n",
    "    '2012-01-27':{'filename':('2012A_20120127.fits'), 'scombine':False},\n",
    "    '2012-01-29':{'filename':('2012A_20120129.fits'), 'scombine':False},\n",
    "    '2012-01-30':{'filename':('2012A_20120130.fits'), 'scombine':False},\n",
    "    '2012-02-05':{'filename':('2012A_20120205.fits'), 'scombine':False},\n",
    "    '2012-02-11':{'filename':('2012A_20120211.fits'), 'scombine':False},\n",
    "    '2012-02-13':{'filename':('2012A_20120213.fits'), 'scombine':False},\n",
    "    '2012-02-18':{'filename':('2012A_20120218.fits'), 'scombine':False},\n",
    "    '2012-02-23':{'filename':('2012A_20120223.fits'), 'scombine':False},\n",
    "    '2012-02-25':{'filename':('2012A_20120225.fits'), 'scombine':False},\n",
    "    '2012-02-28':{'filename':('2012A_20120228.fits'), 'scombine':False},\n",
    "    '2012-03-12':{'filename':('2012A_20120312.fits'), 'scombine':False},\n",
    "    '2012-03-13':{'filename':('2012A_20120313.fits'), 'scombine':False},\n",
    "    #'2012-03-14':{'filename':('2012A_20120314.fits'), 'scombine':False}, #primarily IR\n",
    "    '2012-03-15':{'filename':('2012A_20120315.fits'), 'scombine':False},\n",
    "    '2012-03-17':{'filename':('2012A_20120317.fits'), 'scombine':False},\n",
    "    '2012-03-26':{'filename':('2012A_20120326.fits'), 'scombine':False},\n",
    "    '2012-03-27':{'filename':('2012A_20120327.fits'), 'scombine':False},\n",
    "    '2012-03-29':{'filename':('2012A_20120329.fits'), 'scombine':False},\n",
    "    '2012-03-31':{'filename':('2012A_20120331.fits'), 'scombine':False},\n",
    "    '2012-04-12':{'filename':('2012A_20120412.fits'), 'scombine':False},\n",
    "    '2012-04-23':{'filename':('2012A_20120423.fits'), 'scombine':False},\n",
    "    '2012-04-24':{'filename':('2012A_20120424.fits'), 'scombine':False},\n",
    "    '2012-04-27':{'filename':('2012A_20120427.fits'), 'scombine':False},\n",
    "    '2012-05-01':{'filename':('2012A_20120501.fits'), 'scombine':False},\n",
    "    '2012-05-15':{'filename':('2012A_20120515a.fits','2012A_20120515.fits'), 'scombine':False},\n",
    "    '2012-05-29':{'filename':('2012A_20120529.fits'), 'scombine':False},\n",
    "    '2012-06-08':{'filename':('2012A_20120608.fits'), 'scombine':False},\n",
    "    #'2012-06-27':{'filename':('2012A_20120627.fits'), 'scombine':False},  #Noisy spectrum\n",
    "    '2013-02-03':{'filename':('2012A_20130203.fits'), 'scombine':False},\n",
    "    '2013-03-15':{'filename':('sn2012a-20130315.145-r.flm'), 'scombine':False}\n",
    "}"
   ]
  },
  {
   "cell_type": "code",
   "execution_count": 53,
   "metadata": {
    "collapsed": false
   },
   "outputs": [
    {
     "name": "stderr",
     "output_type": "stream",
     "text": [
      "WARNING: VerifyWarning: Invalid 'BLANK' keyword in header.  The 'BLANK' keyword is only applicable to integer data, and will be ignored in this HDU. [astropy.io.fits.hdu.image]\n"
     ]
    },
    {
     "name": "stdout",
     "output_type": "stream",
     "text": [
      "WARNING: No solution type specified, assuming linear\n",
      "WARNING: No solution type specified, assuming linear\n",
      "WARNING: No solution type specified, assuming linear\n",
      "WARNING: No solution type specified, assuming linear\n",
      "WARNING, Disperions differ by more than 10\\% from average 2.884848793356923\n",
      "[ 1.          4.76969759]\n",
      "2012A_20120118a.fits\n",
      "WARNING: No solution type specified, assuming linear\n"
     ]
    }
   ],
   "source": [
    "create_simple_comb_template_spec(sn_dir, sn, combine_spec_dict, redshift)"
   ]
  },
  {
   "cell_type": "code",
   "execution_count": 54,
   "metadata": {
    "collapsed": false
   },
   "outputs": [
    {
     "name": "stderr",
     "output_type": "stream",
     "text": [
      "WARNING: VerifyWarning: Invalid 'BLANK' keyword in header.  The 'BLANK' keyword is only applicable to integer data, and will be ignored in this HDU. [astropy.io.fits.hdu.image]\n"
     ]
    },
    {
     "name": "stdout",
     "output_type": "stream",
     "text": [
      "WARNING: No solution type specified, assuming linear\n",
      "WARNING: No solution type specified, assuming linear\n",
      "WARNING: No solution type specified, assuming linear\n",
      "WARNING: No solution type specified, assuming linear\n",
      "WARNING: No solution type specified, assuming linear\n"
     ]
    }
   ],
   "source": [
    "plot_combined_spec(sn_dir, sn, combine_spec_dict)"
   ]
  },
  {
   "cell_type": "markdown",
   "metadata": {},
   "source": [
    "# 2013by"
   ]
  },
  {
   "cell_type": "code",
   "execution_count": 18,
   "metadata": {
    "collapsed": false,
    "scrolled": true
   },
   "outputs": [
    {
     "name": "stdout",
     "output_type": "stream",
     "text": [
      "'2013-04-24':{'filename':(\n",
      "'2013-05-08':{'filename':(\n",
      "'2013-05-22':{'filename':(\n",
      "'2013-05-26':{'filename':(\n",
      "WARNING: No solution type specified, assuming linear\n",
      "'SN2013by_20130526_wifes_B.fits',\n",
      "WARNING: No solution type specified, assuming linear\n",
      "'SN2013by_20130526_wifes_R.fits',\n",
      "'2013-07-29':{'filename':(\n",
      "'2013-08-19':{'filename':(\n",
      "WARNING: No solution type specified, assuming linear\n",
      "'SN2013by_20130819_wifes_B.fits',\n",
      "WARNING: No solution type specified, assuming linear\n",
      "'SN2013by_20130819_wifes_R.fits',\n",
      "'2014-07-08':{'filename':(\n",
      "WARNING: No solution type specified, assuming linear\n",
      "'SN2013by_20140708_wifes_B.fits',\n",
      "WARNING: No solution type specified, assuming linear\n",
      "'SN2013by_20140708_wifes_R.fits',\n"
     ]
    }
   ],
   "source": [
    "#Almost no data in wiserep. files that do exist are not for 2012A, but 2012a?\n",
    "tbdata = ascii.read(os.path.join(CAT_DIR, '2013by_cat.csv'))\n",
    "sn_dir = '../2013by'\n",
    "sn='sn13by'\n",
    "plot_scaled_spectra(sn_dir, sn, tbdata)\n",
    "#Copy and paste output below and consult plots to help make combine_spec_dict"
   ]
  },
  {
   "cell_type": "markdown",
   "metadata": {},
   "source": [
    "Only 3 epochs, one with good spectra"
   ]
  },
  {
   "cell_type": "code",
   "execution_count": null,
   "metadata": {
    "collapsed": true
   },
   "outputs": [],
   "source": []
  }
 ],
 "metadata": {
  "kernelspec": {
   "display_name": "Python [default]",
   "language": "python",
   "name": "python3"
  },
  "language_info": {
   "codemirror_mode": {
    "name": "ipython",
    "version": 3
   },
   "file_extension": ".py",
   "mimetype": "text/x-python",
   "name": "python",
   "nbconvert_exporter": "python",
   "pygments_lexer": "ipython3",
   "version": "3.5.2"
  }
 },
 "nbformat": 4,
 "nbformat_minor": 2
}
