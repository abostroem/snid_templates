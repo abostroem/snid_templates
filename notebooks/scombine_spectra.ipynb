{
 "cells": [
  {
   "cell_type": "code",
   "execution_count": 23,
   "metadata": {},
   "outputs": [
    {
     "name": "stdout",
     "output_type": "stream",
     "text": [
      "Using matplotlib backend: Qt5Agg\n"
     ]
    }
   ],
   "source": [
    "import pickle\n",
    "import os\n",
    "import sys\n",
    "\n",
    "import numpy as np\n",
    "from astropy.io import fits, ascii\n",
    "from astropy.table import Table\n",
    "import astropy.units as u\n",
    "from astropy.cosmology import WMAP9\n",
    "import astropy.constants as c\n",
    "\n",
    "from matplotlib import pyplot as plt\n",
    "%matplotlib\n",
    "\n",
    "import spectroscopy"
   ]
  },
  {
   "cell_type": "code",
   "execution_count": 2,
   "metadata": {
    "collapsed": true
   },
   "outputs": [],
   "source": [
    "FIG_DIR = '../figures'"
   ]
  },
  {
   "cell_type": "code",
   "execution_count": 3,
   "metadata": {
    "collapsed": true
   },
   "outputs": [],
   "source": [
    "sys.path.append('../code')\n",
    "import scale_merge_spec"
   ]
  },
  {
   "cell_type": "code",
   "execution_count": 4,
   "metadata": {
    "collapsed": true
   },
   "outputs": [],
   "source": [
    "from pyraf import iraf\n",
    "from iraf import noao,onedspec,scombine as scombine\n",
    "from iraf import noao,onedspec,rspectext as rspectext"
   ]
  },
  {
   "cell_type": "code",
   "execution_count": 5,
   "metadata": {},
   "outputs": [],
   "source": [
    "def scale_spectra(sn_dir, combine_spec_dict):\n",
    "    for date in combine_spec_dict.keys():\n",
    "        if combine_spec_dict[date]['scombine'] is True:\n",
    "            date_dict = combine_spec_dict[date]\n",
    "\n",
    "            #Find which spectrum to scale all the other spectra to\n",
    "            overlap_wmin = []\n",
    "            overlap_wmax = []\n",
    "            template_spec = scale_merge_spec.read_spec(sn_dir, date_dict['filename'][0])\n",
    "            spec_list = [template_spec]\n",
    "            for ifile in date_dict['filename'][1:]:\n",
    "                spec = scale_merge_spec.read_spec(sn_dir, ifile)\n",
    "                wmin, wmax = scale_merge_spec.find_overlap_values(template_spec, spec)\n",
    "                overlap_wmin.append(wmin)\n",
    "                overlap_wmax.append(wmax)\n",
    "                spec_list.append(spec)\n",
    "            mutual_overlap = [max(overlap_wmin), min(overlap_wmax)]\n",
    "            max_flux_spec = None\n",
    "            for ispec in spec_list:\n",
    "                #Net counts spectra can't be the spectra we scale to\n",
    "                if (ispec.flux<1E-5).any():\n",
    "                    overlap_flux = ispec.flux[(ispec.wavelength<mutual_overlap[1])&(ispec.wavelength>mutual_overlap[0])]\n",
    "                    if max_flux_spec is None:\n",
    "                        max_flux_spec = ispec\n",
    "                        max_flux = np.max(overlap_flux)\n",
    "                    else:\n",
    "                        if np.max(overlap_flux) > max_flux:\n",
    "                            max_flux = np.max(overlap_flux)\n",
    "                            max_flux_spec = ispec\n",
    "            #Scale spectra and write in scombine format; make scombine list\n",
    "            ofile = open('{}_scomb_list.txt'.format(date), 'w')\n",
    "            for ispec in spec_list:\n",
    "                print(ispec.filename)\n",
    "                spec1, spec2 = scale_merge_spec.scale_spectrum(max_flux_spec, ispec, spectrum_to_scale=2)\n",
    "                tbdata = Table([spec2.wavelength, spec2.flux], names=['wavelength', 'flux'])\n",
    "                ascii_filename = '{}.txt'.format(os.path.splitext(ispec.filename)[0])\n",
    "                fits_filename = '{}_scaled.fits'.format(os.path.splitext(ispec.filename)[0],)\n",
    "                tbdata.write(ascii_filename, format='ascii.commented_header', overwrite=True)\n",
    "                if os.path.exists(fits_filename):\n",
    "                    os.remove(fits_filename)\n",
    "                rspectext(input=ascii_filename, \n",
    "                          output=fits_filename, \n",
    "                          flux='yes',\n",
    "                          crval1=ispec.wavelength[0], \n",
    "                          cdelt1=ispec.wavelength[1]-ispec.wavelength[0])\n",
    "                os.remove(ascii_filename)\n",
    "                ofile.write('{}\\n'.format(fits_filename))\n",
    "            ofile.close()"
   ]
  },
  {
   "cell_type": "code",
   "execution_count": 28,
   "metadata": {},
   "outputs": [],
   "source": [
    "def scombine_spec(sn, combine_spec_dict, redshift):\n",
    "    for date in combine_spec_dict.keys():\n",
    "        if combine_spec_dict[date]['scombine'] is True:\n",
    "            input_file = '{}_scomb_list.txt'.format(date)\n",
    "            output_file = '../SNID_templates/{}.fits'.format(date)\n",
    "            if os.path.exists(output_file):\n",
    "                os.remove(output_file)\n",
    "            scombine(input='@{}'.format(input_file), output=output_file)\n",
    "            os.remove(input_file)\n",
    "            spec = scale_merge_spec.read_spec(*os.path.split(output_file))\n",
    "            #deredshift\n",
    "            #spec.wavelength = spectroscopy.apply_redshift(spec.wavelength, redshift)\n",
    "            tbdata = Table([spec.wavelength, spec.flux])\n",
    "            tbdata.write('../SNID_templates/{}_{}_combine.dat'.format(sn,os.path.split(output_file)[1][0:10]), \n",
    "                         overwrite=True,\n",
    "                         format='ascii.fixed_width_no_header',\n",
    "                        delimiter=' ',\n",
    "                         delimiter_pad=None,\n",
    "                         bookend=False,\n",
    "                        formats={'col0':'{0: >13.2F}', 'col1':'{: >13.6E}'})\n",
    "            os.remove(output_file)"
   ]
  },
  {
   "cell_type": "markdown",
   "metadata": {},
   "source": [
    "# Test Output"
   ]
  },
  {
   "cell_type": "code",
   "execution_count": 19,
   "metadata": {},
   "outputs": [],
   "source": [
    "def plot_combined_spec(sn_dir, sn, combine_spec_dict):\n",
    "    for date in combine_spec_dict.keys():\n",
    "        if combine_spec_dict[date]['scombine'] is True:\n",
    "            plt.figure()\n",
    "            date_dict = combine_spec_dict[date]\n",
    "            combine_spec = scale_merge_spec.read_spec('../SNID_templates/','{}_{}_combine.dat'.format(sn,date))\n",
    "            for ifile in date_dict['filename']:\n",
    "                spec = scale_merge_spec.read_spec(sn_dir, ifile)\n",
    "                junk, scale_spec = scale_merge_spec.scale_spectrum(combine_spec, spec, spectrum_to_scale=2)\n",
    "                plt.plot(scale_spec.wavelength, scale_spec.flux, label=ifile)\n",
    "            plt.plot(combine_spec.wavelength, combine_spec.flux, color='k', label='Combined')\n",
    "            plt.legend(loc='best', fontsize='x-small')\n",
    "            plt.xlabel('wavelength')\n",
    "            plt.ylabel('flux')\n",
    "            plt.title('Combined Spectra for {} {}'.format(sn, date))\n",
    "            plt.savefig(os.path.join(FIG_DIR, '{}_{}_combined.pdf'.format(sn, date)))\n",
    "            plt.close()"
   ]
  },
  {
   "cell_type": "markdown",
   "metadata": {},
   "source": [
    "# 2013ej"
   ]
  },
  {
   "cell_type": "code",
   "execution_count": 29,
   "metadata": {
    "collapsed": true
   },
   "outputs": [],
   "source": [
    "combine_spec_dict = {'2013-07-27':{'filename':('2013ej_20130727_fts.fits'), 'scombine':False},\n",
    "                    '2013-07-31':{'filename':('2013ej_20130731_P122_BC_300tr.fits'), 'scombine':False},\n",
    "                    '2013-08-01':{'filename':('2013ej_20130801_ftn.fits'), 'scombine':False},\n",
    "                    '2013-08-02':{'filename':('2013ej_20130802_ftn.fits',\n",
    "                                              '2013ej_20130802_fts.fits'), 'scombine':False},\n",
    "                    '2013-08-03':{'filename':('2013ej_20130803_fts.fits'), 'scombine':False},\n",
    "                    '2013-08-04':{'filename':('sn2013ej-20130804.383-r.flm', \n",
    "                                              '2013ej_20130804_fts.fits',\n",
    "                                              'sn2013ej-20130804.511-ui.flm'), 'scombine':True},\n",
    "                    '2013-08-05':{'filename':('2013ej_20130805_ftn.fits',\n",
    "                                              '2013ej_20130805_fts.fits',\n",
    "                                              'SN2013ej_20130804_Gr11_Free_slit1.0_56999_1.fits',\n",
    "                                              'SN2013ej_20130804_Gr16_OG530_slit1.0_56999_1.fits'), 'scombine':True},\n",
    "                    '2013-08-07':{'filename':('2013ej_20130807_P122_BC_300tr.fits'), 'scombine':False},\n",
    "                    '2013-08-08':{'filename':('2013ej_20130808_fts.fits',\n",
    "                                              '2013ej_20130808_P122_BC_300tr.fits'), 'scombine':True},\n",
    "                    '2013-08-09':{'filename':('2013ej_20130809_fts.fits'), 'scombine':False},\n",
    "                    '2013-08-10':{'filename':('2013ej_20130810_fts.fits'), 'scombine':False},\n",
    "                    '2013-08-11':{'filename':('2013ej_20130811_fts.fits', \n",
    "                                              'SN2013ej_20130811_wifes_B.fits',\n",
    "                                              'SN2013ej_20130811_wifes_R.fits'), 'scombine':True},\n",
    "                    '2013-08-12':{'filename':('2013ej_20130812_fts.fits',\n",
    "                                              'sn2013ej-20130812.508-ui.flm'), 'scombine':True},\n",
    "                    '2013-08-13':{'filename':('2013ej_20130813_fts.fits'), 'scombine':False},\n",
    "                    '2013-08-15':{'filename':('2013ej_20130815_fts.fits',\n",
    "                                              'SN2013ej_20130814_Gr16_OG530_slit1.0_56999_1.fits'), 'scombine':True},\n",
    "                     #Spectra shape inconsistent with day before and day after\n",
    "                    #'2013-08-16':{'filename':('SN2013ej_20130815_Gr11_Free_slit1.0_56999_1.fits',\n",
    "                    #                          'SN2013ej_20130815_Gr16_OG530_slit1.0_56999_1.fits'), 'scombine':False},\n",
    "                    '2013-08-17':{'filename':('2013ej_20130817_fts.fits'), 'scombine':False},\n",
    "                    '2013-08-19':{'filename':('SN2013ej_20130819_wifes_B.fits',\n",
    "                                              'SN2013ej_20130819_wifes_R.fits'), 'scombine':False},\n",
    "                    '2013-08-27':{'filename':('SN2013ej_20130826_Gr11_Free_slit1.0_56999_1.fits',\n",
    "                                              'SN2013ej_20130826_Gr16_OG530_slit1.0_56999_1.fits'), 'scombine':False},\n",
    "                    '2013-08-30':{'filename':('SN2013ej_20130829_Gr11_Free_slit1.0_56999_1.fits',\n",
    "                                              'SN2013ej_20130829_Gr16_OG530_slit1.0_56999_1.fits'), 'scombine':False},\n",
    "                    '2013-09-06':{'filename':('sn2013ej-20130906.414-ui.flm'), 'scombine':False},\n",
    "                    '2013-09-09':{'filename':('SN2013ej_20130908_Gr11_Free_slit1.5_56999_1.fits',\n",
    "                                              'SN2013ej_20130908_Gr16_OG530_slit1.5_56999_1.fits'), 'scombine':False},\n",
    "                    '2013-09-10':{'filename':('sn2013ej-20130910.598-hal.flm'), 'scombine':False},\n",
    "                    '2013-09-13':{'filename':('SN2013ej_20130912_Gr11_Free_slit1.0_56999_1.fits'), 'scombine':False},\n",
    "                    '2013-09-19':{'filename':('SN2013ej_20130919_wifes_B.fits',\n",
    "                                              'SN2013ej_20130919_wifes_R.fits'), 'scombine':False},\n",
    "                    '2013-10-01':{'filename':('sn2013ej-20131001.548-ui.flm'), 'scombine':False},\n",
    "                    '2013-10-03':{'filename':('SN2013ej_20131002_Gr11_Free_slit1.0_57001_1.fits',\n",
    "                                              'SN2013ej_20131002_Gr16_OG530_slit1.0_57001_1.fits'), 'scombine':False},\n",
    "                    '2013-10-05':{'filename':('sn2013ej-20131005.329-ui.flm'), 'scombine':False},\n",
    "                    '2013-10-08':{'filename':('sn2013ej-20131008.483-hal.flm'), 'scombine':False},\n",
    "                    '2013-10-10':{'filename':('sn2013ej-20131010.291-ui.flm'), 'scombine':False},\n",
    "                    '2013-10-16':{'filename':('SN2013ej_20131016_wifes_B.fits',\n",
    "                                              'SN2013ej_20131016_wifes_R.fits'), 'scombine':False},\n",
    "                    '2013-10-24':{'filename':('SN2013ej_20131024_wifes_B.fits',\n",
    "                                              'SN2013ej_20131024_wifes_R.fits'), 'scombine':False},\n",
    "                    '2013-10-26':{'filename':('sn2013ej-20131026.264-ui.flm'), 'scombine':False},\n",
    "                    '2013-10-27':{'filename':('SN2013ej_20131026_Gr11_Free_slit1.0_57001_1.fits',\n",
    "                                              'SN2013ej_20131026_Gr16_OG530_slit1.0_57001_1.fits'), 'scombine':False},\n",
    "                    '2013-11-02':{'filename':('sn2013ej-20131102.341-ui.flm'), 'scombine':False},\n",
    "                    '2013-11-08':{'filename':('sn2013ej-20131108.312-ui.flm'), 'scombine':False},\n",
    "                    '2013-11-24':{'filename':('SN2013ej_20131123_Gr11_Free_slit1.0_57002_1.fits',\n",
    "                                              'SN2013ej_20131123_Gr16_OG530_slit1.0_57002_1.fits'), 'scombine':False},\n",
    "                    '2013-11-28':{'filename':('sn2013ej-20131128.367-ui.flm'), 'scombine':False},\n",
    "                    '2013-12-06':{'filename':('sn2013ej-20131206.394-ui.flm'), 'scombine':False},\n",
    "                    '2013-12-24':{'filename':('SN2013ej_20131223_Gr11_Free_slit1.0_57002_1.fits',\n",
    "                                              'SN2013ej_20131223_Gr16_OG530_slit1.0_57002_1.fits'), 'scombine':False},\n",
    "                    '2014-01-24':{'filename':('SN2013ej_20140123_Gr11_Free_slit1.0_57003_1.fits'), 'scombine':False},\n",
    "                    '2014-01-31':{'filename':('SN2013ej_20140130_Gr16_OG530_slit1.5_57003_1.fits'), 'scombine':False}}"
   ]
  },
  {
   "cell_type": "code",
   "execution_count": 30,
   "metadata": {},
   "outputs": [
    {
     "name": "stdout",
     "output_type": "stream",
     "text": [
      "0.00224289831868\n"
     ]
    }
   ],
   "source": [
    "sn_dir = '../2013ej'\n",
    "sn='sn13ej'\n",
    "dist = 9.7*u.Mpc\n",
    "redshift = WMAP9.H0*dist/c.c.to(u.km/u.s)\n",
    "print(redshift)"
   ]
  },
  {
   "cell_type": "code",
   "execution_count": 31,
   "metadata": {},
   "outputs": [
    {
     "name": "stdout",
     "output_type": "stream",
     "text": [
      "2013ej_20130808_fts.fits\n",
      "2013ej_20130808_P122_BC_300tr.fits\n",
      "2013ej_20130815_fts.fits\n",
      "SN2013ej_20130814_Gr16_OG530_slit1.0_56999_1.fits\n",
      "sn2013ej-20130804.383-r.flm\n",
      "2013ej_20130804_fts.fits\n",
      "sn2013ej-20130804.511-ui.flm\n",
      "2013ej_20130805_ftn.fits\n",
      "2013ej_20130805_fts.fits\n",
      "SN2013ej_20130804_Gr11_Free_slit1.0_56999_1.fits\n",
      "SN2013ej_20130804_Gr16_OG530_slit1.0_56999_1.fits\n",
      "WARNING: No solution type specified, assuming linear\n",
      "WARNING: No solution type specified, assuming linear\n",
      "2013ej_20130811_fts.fits\n",
      "SN2013ej_20130811_wifes_B.fits\n",
      "SN2013ej_20130811_wifes_R.fits\n",
      "2013ej_20130812_fts.fits\n",
      "sn2013ej-20130812.508-ui.flm\n",
      "\n",
      "Sep 21 15:41: SCOMBINE\n",
      "  combine = average, scale = none, zero = none, weight = none\n",
      "  blank = 0.\n",
      "                Images \n",
      "  2013ej_20130808_fts_scaled.fits[  1]\n",
      "  2013ej_20130808_P122_BC_300tr_scaled.fits[  1]\n",
      "\n",
      "  Output image = ../SNID_templates/2013-08-08.fits, ncombine = 2\n",
      "  w1 = 3150.063, w2 = 9980.93, dw = 1.738134, nw = 3931., dtype = 0\n",
      "\n",
      "Sep 21 15:41: SCOMBINE\n",
      "  combine = average, scale = none, zero = none, weight = none\n",
      "  blank = 0.\n",
      "                Images \n",
      "  2013ej_20130815_fts_scaled.fits[  1]\n",
      "  SN2013ej_20130814_Gr16_OG530_slit1.0_56999_1_scaled.fits[  1]\n",
      "\n",
      "  Output image = ../SNID_templates/2013-08-15.fits, ncombine = 2\n",
      "  w1 = 3217.385, w2 = 9999.277, dw = 1.738501, nw = 3902., dtype = 0\n",
      "\n",
      "Sep 21 15:41: SCOMBINE\n",
      "  combine = average, scale = none, zero = none, weight = none\n",
      "  blank = 0.\n",
      "                Images \n",
      "  sn2013ej-20130804.383-r_scaled.fits[  1]\n",
      "  2013ej_20130804_fts_scaled.fits[  1]\n",
      "  sn2013ej-20130804.511-ui_scaled.fits[  1]\n",
      "\n",
      "  Output image = ../SNID_templates/2013-08-04.fits, ncombine = 3\n",
      "  w1 = 3167.375, w2 = 9998., dw = 1.738515, nw = 3930., dtype = 0\n",
      "\n",
      "Sep 21 15:41: SCOMBINE\n",
      "  combine = average, scale = none, zero = none, weight = none\n",
      "  blank = 0.\n",
      "                Images \n",
      "  2013ej_20130805_ftn_scaled.fits[  1]\n",
      "  2013ej_20130805_fts_scaled.fits[  1]\n",
      "  SN2013ej_20130804_Gr11_Free_slit1.0_56999_1_scaled.fits[  1]\n",
      "  SN2013ej_20130804_Gr16_OG530_slit1.0_56999_1_scaled.fits[  1]\n",
      "\n",
      "  Output image = ../SNID_templates/2013-08-05.fits, ncombine = 4\n",
      "  w1 = 3131.004, w2 = 9998.85, dw = 1.738695, nw = 3951., dtype = 0\n",
      "\n",
      "Sep 21 15:41: SCOMBINE\n",
      "  combine = average, scale = none, zero = none, weight = none\n",
      "  blank = 0.\n",
      "                Images \n",
      "  2013ej_20130811_fts_scaled.fits[  1]\n",
      "  SN2013ej_20130811_wifes_B_scaled.fits[  1]\n",
      "  SN2013ej_20130811_wifes_R_scaled.fits[  1]\n",
      "\n",
      "  Output image = ../SNID_templates/2013-08-11.fits, ncombine = 3\n",
      "  w1 = 3149.773, w2 = 9981.703, dw = 0.7744197, nw = 8823., dtype = 0\n",
      "\n",
      "Sep 21 15:41: SCOMBINE\n",
      "  combine = average, scale = none, zero = none, weight = none\n",
      "  blank = 0.\n",
      "                Images \n",
      "  2013ej_20130812_fts_scaled.fits[  1]\n",
      "  sn2013ej-20130812.508-ui_scaled.fits[  1]\n",
      "\n",
      "  Output image = ../SNID_templates/2013-08-12.fits, ncombine = 2\n",
      "  w1 = 3149.469, w2 = 9998., dw = 1.738206, nw = 3941., dtype = 0\n"
     ]
    }
   ],
   "source": [
    "scale_spectra(sn_dir, combine_spec_dict)\n",
    "scombine_spec(sn, combine_spec_dict, redshift)"
   ]
  },
  {
   "cell_type": "code",
   "execution_count": 32,
   "metadata": {},
   "outputs": [
    {
     "name": "stdout",
     "output_type": "stream",
     "text": [
      "WARNING: No solution type specified, assuming linear\n",
      "WARNING: No solution type specified, assuming linear\n"
     ]
    }
   ],
   "source": [
    "plot_combined_spec(sn_dir, sn, combine_spec_dict)"
   ]
  },
  {
   "cell_type": "code",
   "execution_count": null,
   "metadata": {
    "collapsed": true
   },
   "outputs": [],
   "source": []
  }
 ],
 "metadata": {
  "kernelspec": {
   "display_name": "Python 2",
   "language": "python",
   "name": "python2"
  },
  "language_info": {
   "codemirror_mode": {
    "name": "ipython",
    "version": 2
   },
   "file_extension": ".py",
   "mimetype": "text/x-python",
   "name": "python",
   "nbconvert_exporter": "python",
   "pygments_lexer": "ipython2",
   "version": "2.7.13"
  }
 },
 "nbformat": 4,
 "nbformat_minor": 2
}
